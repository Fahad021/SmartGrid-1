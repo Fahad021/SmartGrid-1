{
 "cells": [
  {
   "cell_type": "code",
   "execution_count": 82,
   "metadata": {
    "collapsed": false
   },
   "outputs": [],
   "source": [
    "'''\n",
    "[LICENSE]\n",
    "Copyright (c) 2016, Ahmed Chaouachi\n",
    "IREQ: Institut de Recherche d'Hydro Québec\n",
    "All rights reserved.\n",
    "[\\LICENSE]\n",
    "'''\n",
    "MILE_TO_KM = 1.60934\n",
    "#self.type = {'PQ':0, 'PQV':1, 'PV':2, 'SWING':3}\n",
    "class Tbranch:\n",
    "    '''\n",
    "    The name of this class: T for Transmission , BRANCH for the link\n",
    "    \n",
    "    Attributes:\n",
    "        params: a dictionnary where the KEYS are the names  defined below\n",
    "         note: we expect len(keys) to return x \n",
    "        \n",
    "        cdfNum      - number in the cdf file, Branch identifier.\n",
    "                      Inter area branches are indicated by double letter ID.\n",
    "                      Circuits on a common tower have hyphenated ID#.\n",
    "        branchType               -  [1]simple link ,  [2] active link (transformer branches)\n",
    "        fromBus                  - from bus\n",
    "        toBus                    - to bus\n",
    "        lengthMiles              - length in miles\n",
    "        lengthKM                 - length in km\n",
    "        outageRateYear           - Lam-p     =  Permanent Outage Rate (outages/year).\n",
    "        outageDuration           - Dur       =  Permanent Outage Duration (Hours).\n",
    "        outageTransientRateYear  - Transient Outage Rate (outages/year)\n",
    "        R     - Resistance (p.u)\n",
    "        X     - Reactance  (p.u)\n",
    "        B     - Susceptance(p.u)\n",
    "        contRating    - Continious rating (MVA)\n",
    "        LTemergency   - (MVA) LTE       =  Long-time emergency rating  (24 hour).\n",
    "        STemergency   - (MVA) STE       =  Short-time emergency rating (15 minute).\n",
    "        TR            - (pu)   Tr       =  Transformer off-nominal Ratio.\n",
    "                      |-------------------> Transformer branches are indicated by Tr != 0.\n",
    "\n",
    "\n",
    "    '''\n",
    "    # NUMBER OF branches IN THE TNETWROK\n",
    "    B_SIZE          =0 # B_SIZE = ACTIVE_B_SIZE +  LINK_SIZE\n",
    "    ACTIVE_B_SIZE   =0\n",
    "    LINK_SIZE       =0  \n",
    "    #def __init__(self, cdfNum, branchType, fromBus, toBus, lengthMiles, lengthKM=0,\n",
    "    #             outageRateYear, outageDuration,  outageTransientRateYear, \n",
    "    #             R, X, B,\n",
    "    #             contRating, LTemergency, STemergency, TR):\n",
    "    def __init__(self, params):\n",
    "        # THE IEEE CDF PROPERTIES: branch DATA\n",
    "        self.cdfNum = params['cdfNum'] \n",
    "        if 'branchType' in params.keys() : self.branchType =params['branchType']\n",
    "        if 'fromBus' in params.keys() :self.fromBus=params['fromBus']\n",
    "        if 'toBus' in params.keys() : self.toBus=params['toBus']\n",
    "        if 'lengthMiles' in params.keys() : self.lengthMiles=params['lengthMiles']\n",
    "        if 'lengthKM' in params.keys() and 'lengthMiles' in params.keys() :\n",
    "            if params['lengthKM'] == 0: self.lengthKM = params['lengthMiles'] * MILE_TO_KM\n",
    "            else: self.lengthKM = params['lengthKM']\n",
    "        if 'outageRateYear' in params.keys() :self.outageRateYear=params['outageRateYear']\n",
    "        if 'outageDuration' in params.keys() :self.outageDuration=params['outageDuration']\n",
    "        if 'outageTransientRateYear' in params.keys() :self.outageTransientRateYear = params['outageTransientRateYear']\n",
    "        if 'R' in params.keys() :self.R=params['R']\n",
    "        if 'X' in params.keys() :self.X=params['X']\n",
    "        if 'B' in params.keys() :self.B=params['B']\n",
    "        if 'contRating' in params.keys() :self.contRating= params['contRating']\n",
    "        if 'LTemergency' in params.keys() :self.LTemergency= params['LTemergency']\n",
    "        if 'STemergency' in params.keys() :self.STemergency= params['STemergency']\n",
    "        if 'TR' in params.keys() :\n",
    "            self.TR= params['TR']\n",
    "            if self.TR == 0: Tbranch.LINK_SIZE +=1\n",
    "            else: Tbranch.ACTIVE_B_SIZE +=1\n",
    "        Tbranch.B_SIZE +=1\n",
    "        \n",
    "    def displayBranches():\n",
    "        print ('The total number of branches is ', Tbranch.B_SIZE)\n",
    "        print ('Active of branches: ', Tbranch.ACTIVE_B_SIZE)\n",
    "        print ('Link branches ', Tbranch.LINK_SIZE)\n",
    "            "
   ]
  },
  {
   "cell_type": "code",
   "execution_count": 85,
   "metadata": {
    "collapsed": false
   },
   "outputs": [],
   "source": [
    "dict={'cdfNum':1}; dict2={'cdfNum':2, 'branchType':1}"
   ]
  },
  {
   "cell_type": "code",
   "execution_count": 86,
   "metadata": {
    "collapsed": false
   },
   "outputs": [],
   "source": [
    "T=Tbranch(dict)"
   ]
  },
  {
   "cell_type": "code",
   "execution_count": 88,
   "metadata": {
    "collapsed": false
   },
   "outputs": [],
   "source": [
    "T2=Tbranch(dict2)"
   ]
  },
  {
   "cell_type": "raw",
   "metadata": {},
   "source": []
  },
  {
   "cell_type": "code",
   "execution_count": 89,
   "metadata": {
    "collapsed": false
   },
   "outputs": [
    {
     "name": "stdout",
     "output_type": "stream",
     "text": [
      "2\n"
     ]
    }
   ],
   "source": [
    "print (Tbranch.B_SIZE)"
   ]
  },
  {
   "cell_type": "code",
   "execution_count": 90,
   "metadata": {
    "collapsed": false
   },
   "outputs": [
    {
     "name": "stdout",
     "output_type": "stream",
     "text": [
      "The total number of branches is  2\n",
      "Active of branches:  0\n",
      "Link branches  0\n"
     ]
    }
   ],
   "source": [
    "Tbranch.displayBranches()"
   ]
  },
  {
   "cell_type": "code",
   "execution_count": null,
   "metadata": {
    "collapsed": true
   },
   "outputs": [],
   "source": []
  }
 ],
 "metadata": {
  "kernelspec": {
   "display_name": "Python [conda root]",
   "language": "python",
   "name": "conda-root-py"
  },
  "language_info": {
   "codemirror_mode": {
    "name": "ipython",
    "version": 3
   },
   "file_extension": ".py",
   "mimetype": "text/x-python",
   "name": "python",
   "nbconvert_exporter": "python",
   "pygments_lexer": "ipython3",
   "version": "3.5.2"
  }
 },
 "nbformat": 4,
 "nbformat_minor": 1
}
