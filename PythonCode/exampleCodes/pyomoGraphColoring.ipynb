{
 "cells": [
  {
   "cell_type": "code",
   "execution_count": 6,
   "metadata": {
    "collapsed": false
   },
   "outputs": [],
   "source": [
    "from coopr.pyomo import *\n",
    "from coopr.opt import SolverFactory"
   ]
  },
  {
   "cell_type": "code",
   "execution_count": 2,
   "metadata": {
    "collapsed": true
   },
   "outputs": [],
   "source": [
    "model = AbstractModel ( )"
   ]
  },
  {
   "cell_type": "code",
   "execution_count": 3,
   "metadata": {
    "collapsed": true
   },
   "outputs": [],
   "source": [
    "model.vertices= Set()"
   ]
  },
  {
   "cell_type": "code",
   "execution_count": 4,
   "metadata": {
    "collapsed": true
   },
   "outputs": [],
   "source": [
    "model.edges= Set(within=model.vertices*model.vertices)"
   ]
  },
  {
   "cell_type": "code",
   "execution_count": 5,
   "metadata": {
    "collapsed": true
   },
   "outputs": [],
   "source": [
    "model.ncolors = Param(within=PositiveIntegers)"
   ]
  },
  {
   "cell_type": "code",
   "execution_count": 6,
   "metadata": {
    "collapsed": true
   },
   "outputs": [],
   "source": [
    "model.colors= RangeSet(1,model.ncolors)"
   ]
  },
  {
   "cell_type": "code",
   "execution_count": 7,
   "metadata": {
    "collapsed": false
   },
   "outputs": [],
   "source": [
    "#Defin model variables\n",
    "model.x= Var(model.vertices, model.colors, within=Binary)\n",
    "model.y=Var()"
   ]
  },
  {
   "cell_type": "code",
   "execution_count": 8,
   "metadata": {
    "collapsed": false
   },
   "outputs": [],
   "source": [
    "# (Constraint 1) Each node is colored with one color\n",
    "def node_coloring_rule(model,v):\n",
    "    return sum(model.x[v,c] for c in model.colors) ==1\n",
    "model.node_coloring=Constraint(model.vertices, rule=node_coloring_rule)"
   ]
  },
  {
   "cell_type": "code",
   "execution_count": 9,
   "metadata": {
    "collapsed": true
   },
   "outputs": [],
   "source": [
    "# (Constraint 2) Nodes t h a t share an edge cannot be c o l o r e d t he same color\n",
    "def different_colors(model,v,w,c):\n",
    "    return model.x[v,c] + model.x[w,c] <= 1\n",
    "model.edge_coloring=Constraint(model.edges, model.colors, rule=different_colors)"
   ]
  },
  {
   "cell_type": "code",
   "execution_count": 10,
   "metadata": {
    "collapsed": true
   },
   "outputs": [],
   "source": [
    "# (Constraint 3) Provide a lower bound on the minimum number of c o l o r s\n",
    "def lower_bound(model,v,c):\n",
    "    return c* model.x[v,c] <= model.y\n",
    "model.lower_bound=Constraint(model.vertices,model.colors, rule=lower_bound)"
   ]
  },
  {
   "cell_type": "code",
   "execution_count": 15,
   "metadata": {
    "collapsed": false
   },
   "outputs": [
    {
     "name": "stdout",
     "output_type": "stream",
     "text": [
      "WARNING: Attempting to implictly replace the Component attribute obj (type=<class 'coopr.pyomo.base.objective.SimpleObjective'>) on block unknown with a new Component (type=<class 'coopr.pyomo.base.objective.SimpleObjective'>).\n",
      "\tThis is usually indicative of a modelling error.\n",
      "\tTo avoid this warning, use block.del_component() and block.add_component().\n"
     ]
    }
   ],
   "source": [
    "model.obj=Objective(expr=model.y)"
   ]
  },
  {
   "cell_type": "code",
   "execution_count": 12,
   "metadata": {
    "collapsed": false
   },
   "outputs": [],
   "source": [
    "#model.pprint()"
   ]
  },
  {
   "cell_type": "code",
   "execution_count": 16,
   "metadata": {
    "collapsed": false
   },
   "outputs": [],
   "source": [
    "import coopr.environ\n",
    "instance=model.create(\"paramsGraphColoring.dat\")"
   ]
  },
  {
   "cell_type": "raw",
   "metadata": {},
   "source": [
    "opt=SolverFactory(\"glpk\")\n",
    "results=opt.solve(instance)\n",
    "#results.write"
   ]
  },
  {
   "cell_type": "raw",
   "metadata": {
    "collapsed": true
   },
   "source": [
    "results.write()"
   ]
  },
  {
   "cell_type": "code",
   "execution_count": 8,
   "metadata": {
    "collapsed": false
   },
   "outputs": [
    {
     "ename": "SyntaxError",
     "evalue": "invalid syntax (<ipython-input-8-9a7b086f9ad5>, line 1)",
     "output_type": "error",
     "traceback": [
      "\u001b[0;36m  File \u001b[0;32m\"<ipython-input-8-9a7b086f9ad5>\"\u001b[0;36m, line \u001b[0;32m1\u001b[0m\n\u001b[0;31m    pyomo transport.py --solver=glpk\u001b[0m\n\u001b[0m                  ^\u001b[0m\n\u001b[0;31mSyntaxError\u001b[0m\u001b[0;31m:\u001b[0m invalid syntax\n"
     ]
    }
   ],
   "source": [
    "pyomo transport.py --solver=glpk "
   ]
  },
  {
   "cell_type": "code",
   "execution_count": null,
   "metadata": {
    "collapsed": true
   },
   "outputs": [],
   "source": []
  }
 ],
 "metadata": {
  "anaconda-cloud": {},
  "kernelspec": {
   "display_name": "Python [conda root]",
   "language": "python",
   "name": "conda-root-py"
  },
  "language_info": {
   "codemirror_mode": {
    "name": "ipython",
    "version": 3
   },
   "file_extension": ".py",
   "mimetype": "text/x-python",
   "name": "python",
   "nbconvert_exporter": "python",
   "pygments_lexer": "ipython3",
   "version": "3.5.2"
  }
 },
 "nbformat": 4,
 "nbformat_minor": 1
}
