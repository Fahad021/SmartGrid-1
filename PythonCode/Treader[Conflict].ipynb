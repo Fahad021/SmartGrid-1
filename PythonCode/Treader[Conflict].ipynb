{
 "cells": [
  {
   "cell_type": "code",
   "execution_count": 71,
   "metadata": {
    "collapsed": false
   },
   "outputs": [],
   "source": [
    "'''\n",
    "[LICENSE]\n",
    "Copyright (c) 2016, Ahmed Chaouachi\n",
    "IREQ: Institut de Recherche d'Hydro Québec\n",
    "All rights reserved.\n",
    "[\\LICENSE]\n",
    "'''\n",
    "class Treader:\n",
    "    '''\n",
    "    This class is desicated to handle input data file for Tnets: T: Transmission networks\n",
    "    '''\n",
    "    def __init__ (self, *params):\n",
    "        try:\n",
    "            self.filePathNodes    = params[0]\n",
    "            self.filePathBranches = params[1]\n",
    "            self.paramsNodesCDF   = {'cdfNum':None, 'busType':None,'busName':None,'busArea':None,\n",
    "                                    'cdfNum':None,'cdfNum':None,'cdfNum':None,'cdfNum':None,\n",
    "                                    'cdfNum':None,'cdfNum':None,'cdfNum':None,'cdfNum':None,\n",
    "                                    'cdfNum':None,'cdfNum':None,'cdfNum':None,'cdfNum':None,}\n",
    "            self.paramsBranches   = None\n",
    "        except Exception as e:\n",
    "            print (\"Error: Not enough arguments: arg1: filePathNodes, arg2: filePathBranches\")\n",
    "            print (\"Details:\",e)\n",
    "    def tReadNodes(self, beginData, endData):\n",
    "        try:\n",
    "            with open (self.filePathNodes) as f:\n",
    "                for index,line in enumerate(f):\n",
    "                    if index >= beginData and index <= endData:\n",
    "                        #print (index-beginData+1, line)\n",
    "                        values=line.split()\n",
    "                        if index== beginData:\n",
    "                            for value in values:\n",
    "                                print (value)\n",
    "            f.close()\n",
    "        except IOError:\n",
    "            print (\"Error: can\\'t find file or read data\")\n",
    "            \n",
    "    ####### Read Branches\n",
    "    def tReadBranches(self, beginData, endData):\n",
    "        with open (self.filePathBranches) as f:\n",
    "            for index,line in enumerate(f):\n",
    "                if index >= beginData and index <= endData:\n",
    "                    print (index-beginData+1, line)\n",
    "        f.colse()"
   ]
  },
  {
   "cell_type": "code",
   "execution_count": 69,
   "metadata": {
    "collapsed": false
   },
   "outputs": [],
   "source": [
    "R=Treader('Data/Tnodes.txt', 'Data/Tbranch.txt')"
   ]
  },
  {
   "cell_type": "code",
   "execution_count": 70,
   "metadata": {
    "collapsed": false
   },
   "outputs": [
    {
     "name": "stdout",
     "output_type": "stream",
     "text": [
      "101\n",
      "Abel\n",
      "2\n",
      "108\n",
      "22\n",
      "0\n",
      "0\n",
      "11\n",
      "138\n",
      "11\n"
     ]
    }
   ],
   "source": [
    "R.tReadNodes(5,77)"
   ]
  },
  {
   "cell_type": "code",
   "execution_count": null,
   "metadata": {
    "collapsed": true
   },
   "outputs": [],
   "source": []
  }
 ],
 "metadata": {
  "kernelspec": {
   "display_name": "Python [conda root]",
   "language": "python",
   "name": "conda-root-py"
  },
  "language_info": {
   "codemirror_mode": {
    "name": "ipython",
    "version": 3
   },
   "file_extension": ".py",
   "mimetype": "text/x-python",
   "name": "python",
   "nbconvert_exporter": "python",
   "pygments_lexer": "ipython3",
   "version": "3.5.2"
  }
 },
 "nbformat": 4,
 "nbformat_minor": 1
}
