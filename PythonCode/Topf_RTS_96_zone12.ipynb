{
 "cells": [
  {
   "cell_type": "code",
   "execution_count": 206,
   "metadata": {
    "collapsed": false
   },
   "outputs": [
    {
     "data": {
      "text/plain": [
       "\"\\n    [LICENSE]\\n    Copyright (c) 2016, Ahmed Chaouachi\\n    IREQ: Institut de Recherche d'Hydro Québec\\n    All rights reserved.\\n    [/LICENSE]\\n    [OBJECTIF]\\n    This script contaisn the pyomo (PythonOptimModelling) model of the Topf: Transmission Optimal Power Flow\\n    [/OBJECTIF]\\n    \\n\""
      ]
     },
     "execution_count": 206,
     "metadata": {},
     "output_type": "execute_result"
    }
   ],
   "source": [
    "'''\n",
    "    [LICENSE]\n",
    "    Copyright (c) 2016, Ahmed Chaouachi\n",
    "    IREQ: Institut de Recherche d'Hydro Québec\n",
    "    All rights reserved.\n",
    "    [/LICENSE]\n",
    "    [OBJECTIF]\n",
    "    This script contaisn the pyomo (PythonOptimModelling) model of the Topf: Transmission Optimal Power Flow\n",
    "    [/OBJECTIF]\n",
    "    \n",
    "'''"
   ]
  },
  {
   "cell_type": "code",
   "execution_count": 207,
   "metadata": {
    "collapsed": true
   },
   "outputs": [],
   "source": [
    "import Treader\n",
    "from coopr.pyomo import *\n",
    "from pyomo.environ import *\n",
    "from math import pi\n",
    "import numpy as np\n",
    "from numpy.lib.recfunctions import append_fields\n",
    "#import importlib \n",
    "#importlib.reload(Treader)"
   ]
  },
  {
   "cell_type": "code",
   "execution_count": 208,
   "metadata": {
    "collapsed": false
   },
   "outputs": [],
   "source": [
    "fNodes='Data/Tnodes.txt' # file of cdf nodes data\n",
    "fBranches='Data/Tbranch.txt' # file of cdf branches data\n",
    "fGenerators='Data/Tgenerators.txt' # file of cdf generators data: tab 7\n",
    "fnSH = [5,5,29,53,5,29]     #file nodes skip header: number of lines\n",
    "fnSF = [7,56,32,7,32,7]     #file nodes skip footer: number of lines -1\n",
    "fbSH = [17,17,58,96,17,58]    #file branches skip header: number of lines\n",
    "fbSF = [9,89,50,9,50,9]     #file branches skip footer: number of lines -1\n",
    "fgSH = [5,5,38,71,5,38]     #file generators skip header: number of lines\n",
    "fgSF = [3,69,36,3,36,3 ]    #file generators skip footer: number of lines -1\n",
    "\n",
    "if __name__ == \"__main__\":\n",
    "    import sys\n",
    "    area=int(sys.argv[1])\n",
    "\n",
    "area=4 # zone:0=ALL, i=zone i, i=1,2,3, 4:zone(1+2), 5:zone(2+3)\n",
    "# Instantiate a reader with two cdf files for nodes and branches consicutively\n",
    "R= Treader.Treader(fNodes, fBranches,fGenerators)\n",
    "# Read nodes\n",
    "R.tReadNodes(fnSH[area],fnSF[area])\n",
    "#Read branches\n",
    "R.tReadBranches(fbSH[area],fbSF[area])\n",
    "#Read generators\n",
    "R.tReadGenerators(fgSH[area],fgSF[area])\n",
    "# nodes\n",
    "n=R.cdfDataNodes\n",
    "# branches\n",
    "k=R.cdfDataBranches\n",
    "# generators\n",
    "g=R.cdfDataGenerators\n",
    "#####################\n",
    "# Smoothing params  #\n",
    "#####################\n",
    "deltaV=2e-1\n",
    "epsilonV=1e-6\n",
    "epsilonPgj=1e-6\n",
    "epsilonPhiK=1e-6\n",
    "epsilonC=1e-6\n",
    "epsilonSparcity=1e-4\n",
    "##########\n",
    "# model  #\n",
    "##########\n",
    "model = ConcreteModel()"
   ]
  },
  {
   "cell_type": "markdown",
   "metadata": {},
   "source": [
    "#   indexes"
   ]
  },
  {
   "cell_type": "code",
   "execution_count": 209,
   "metadata": {
    "collapsed": false
   },
   "outputs": [],
   "source": [
    "###########\n",
    "# indexes #\n",
    "###########\n",
    "# nodes\n",
    "def InitNodes(model):\n",
    "    indexN=[]\n",
    "    for i in n:\n",
    "        indexN.append(i['cdfNum'])\n",
    "    return indexN \n",
    "model.nodes=Set(initialize= InitNodes , doc='Nodes index: cdfNum')\n",
    "# Neighbour nodes\n",
    "def InitNeighbours(model, node):\n",
    "    retval = []\n",
    "    for link in k:\n",
    "        if link['fromBus'] == node and link['toBus']  in model.nodes :\n",
    "            retval.append( link['toBus'])\n",
    "    return retval\n",
    "model.neighbours=Set(model.nodes,initialize=InitNeighbours,doc='Neighbours of each node' )\n",
    "#PQ busses :\n",
    "def PQbus_rule(model):\n",
    "    retval=[]\n",
    "    for i in n:\n",
    "        if i['busType']==1:\n",
    "            retval.append(i['cdfNum'])\n",
    "    return retval\n",
    "model.PQbuses=Set(initialize=PQbus_rule,doc='PQ busses')\n",
    "#PV busses :\n",
    "def PVbus_rule(model):\n",
    "    retval=[]\n",
    "    for i in n:\n",
    "        if i['busType']==2:\n",
    "            retval.append(i['cdfNum'])\n",
    "    return retval\n",
    "model.PVbuses=Set(initialize=PVbus_rule,doc='PV busses')\n",
    "#SWING busses:\n",
    "def SWING_rule(model):\n",
    "    retval=[]\n",
    "    for i in n:\n",
    "        if i['busType']==3:\n",
    "            retval.append(i['cdfNum'])\n",
    "    return retval\n",
    "model.SWINGbuses=Set(initialize=SWING_rule,doc='SWING busses')\n",
    "\n",
    "# Branches\n",
    "def InitBranchesIndex(model):\n",
    "    numB=[]\n",
    "    for j in k:\n",
    "        if j['fromBus'] in model.nodes and j['toBus'] in model.nodes:\n",
    "            numB.append(j['cdfNum'])\n",
    "    return numB\n",
    "model.branches=Set(initialize=InitBranchesIndex, doc='cdfNum of ALL Branches: number in the cdf file, Branch identifier.\\\n",
    "                      Inter area branches are indicated by double letter ID.\\\n",
    "                      Circuits on a common tower have hyphenated ID#.' )\n",
    "#PAssive Branches\n",
    "def PassiveBranch_rule(model):\n",
    "    retval=[]\n",
    "    for j in k:\n",
    "        if j['TR']==0 and j['cdfNum'] in model.branches :\n",
    "            retval.append(j['cdfNum'])\n",
    "    return retval\n",
    "model.PassiveBranches=Set(initialize=PassiveBranch_rule, doc='Passive lines')\n",
    "# Active Branches\n",
    "def ActiveBranch_rule(model):\n",
    "    retval=[]\n",
    "    for j in k:\n",
    "        if j['TR']!=0 and j['cdfNum'] in model.branches:\n",
    "            retval.append(j['cdfNum'])\n",
    "    return retval\n",
    "model.ActiveBranches=Set(initialize=ActiveBranch_rule, doc='Active lines')\n",
    "# Connected branches to each node\n",
    "def InitConn(model,node):\n",
    "    retval=[]\n",
    "    for j in k:\n",
    "        if j['fromBus']==node and j['cdfNum'] in model.branches:\n",
    "            retval.append(j['cdfNum'])\n",
    "    return retval\n",
    "model.kp=Set(model.nodes,initialize=InitConn, doc='cdfNum of branches connected to ONE node' )\n",
    "# Connected ACTIVE branches to each node\n",
    "def InitConnActive(model,node):\n",
    "    retval=[]\n",
    "    for j in k:\n",
    "        if j['fromBus']==node and j['cdfNum'] in model.ActiveBranches:\n",
    "            retval.append(j['cdfNum'])\n",
    "    return retval\n",
    "def InitConnPassive(model,node):\n",
    "    retval=[]\n",
    "    for j in k:\n",
    "        if j['fromBus']==node and j['cdfNum'] in model.PassiveBranches:\n",
    "            retval.append(j['cdfNum'])\n",
    "    return retval\n",
    "model.kpActive=Set(model.nodes, initialize=InitConnActive, doc='cdfNum of Active branches connected to ONE node')\n",
    "model.kpPassive=Set(model.nodes,initialize= InitConnPassive, doc='cdfNum of Passive branches connected to ONE node')\n",
    "# generators\n",
    "def InitGen_rule(self):\n",
    "    retval=[]\n",
    "    for l in g:\n",
    "        if l['locBus'] in model.nodes:\n",
    "            retval.append(l['genID'])\n",
    "    return retval\n",
    "model.generators=Set(initialize=InitGen_rule,doc='genrators index by name')\n",
    "def InitNodeGens_rule(self,node):\n",
    "    retval=[]\n",
    "    for j in g:\n",
    "        if j['locBus'] == node:\n",
    "            retval.append(j['genID'])\n",
    "    return retval\n",
    "model.nodeGens=Set(model.nodes,initialize=InitNodeGens_rule, doc='Generators of each node')"
   ]
  },
  {
   "cell_type": "markdown",
   "metadata": {
    "collapsed": true
   },
   "source": [
    "#   params  for busses"
   ]
  },
  {
   "cell_type": "code",
   "execution_count": 210,
   "metadata": {
    "collapsed": false
   },
   "outputs": [],
   "source": [
    "def populateNodes_1(model,node):\n",
    "    for i in n:\n",
    "        if i['cdfNum']==node:\n",
    "            return i['busType']\n",
    "model.busType=Param(model.nodes, initialize=populateNodes_1, default=-1, doc='[1]PQ ,  [2]PV, [3]SWING, [4]PQV' )\n",
    "def populateNodes_2(model,node):\n",
    "    for i in n:\n",
    "        if i['cdfNum']==node:\n",
    "            return i['busName']\n",
    "model.busName=Param(model.nodes, initialize=populateNodes_2, default='Unknown', doc='cdf bus name: Abel, Adams, etc.' )\n",
    "def populateNodes_3(model,node):\n",
    "    for i in n:\n",
    "        if i['cdfNum']==node:\n",
    "            return i['busLoadMW']\n",
    "model.busPload=Param(model.nodes, initialize=populateNodes_3, default=0, doc='cdf bus active load (MW).' )\n",
    "def populateNodes_4(model,node):\n",
    "    for i in n:\n",
    "        if i['cdfNum']==node:\n",
    "            return i['busLoadMVAR']\n",
    "model.busQload=Param(model.nodes, initialize=populateNodes_4, default=0, doc='cdf bus reactive load (MVAR).' )\n",
    "def populateNodes_5(model,node):\n",
    "    for i in n:\n",
    "        if i['cdfNum']==node:\n",
    "            return i['busGL']\n",
    "model.busGL=Param(model.nodes, initialize=populateNodes_5, default=0, doc='cdf real component of shunt admittance to ground.' ) \n",
    "def populateNodes_6(model,node):\n",
    "    for i in n:\n",
    "        if i['cdfNum']==node:\n",
    "            return i['busBL']\n",
    "model.busBL=Param(model.nodes, initialize=populateNodes_6, default=0, doc='cdf imaginary component of shunt admittance to ground.' )\n",
    "def populateNodes_7(model,node):\n",
    "    for i in n:\n",
    "        if i['cdfNum']==node:\n",
    "            return i['busKV']\n",
    "model.busBaseKV=Param(model.nodes, initialize=populateNodes_7, default=0, doc='cdf base kV.')\n",
    "def populateNodes_8(model,node):\n",
    "    for i in n:\n",
    "        if i['cdfNum']==node:\n",
    "            return i['busSubArea']\n",
    "model.busSubArea=Param(model.nodes, initialize=populateNodes_8, default=0, doc='cdf base subArea: 11,12 21,22 31,32 ')\n",
    "def populateNodes_9(model,node):\n",
    "    for i in n:\n",
    "        if i['cdfNum']==node:\n",
    "            return i['busArea']\n",
    "model.busArea=Param(model.nodes, initialize=populateNodes_9, default=0, doc='cdf base Area: 1, 2 or 3.')\n",
    "def populateNodes_10(model,node):\n",
    "    for i in n:\n",
    "        if i['cdfNum']==node:\n",
    "            return i['busZone']\n",
    "model.busZone=Param(model.nodes, initialize=populateNodes_10, default=0, doc='cdf base zone: \\\n",
    "                    cdf zones (area1: 11-17), (area2: 21-27) and (area3:31-37)')\n",
    "def populateNodes_11(model,node):\n",
    "    qmin=0\n",
    "    for j in g:\n",
    "        if j['locBus']==node:\n",
    "            qmin += j['genQMIN']\n",
    "    return qmin\n",
    "model.busQMIN=Param(model.nodes,initialize=populateNodes_11,default=0,doc='Node QMIN')\n",
    "def populateNodes_12(model,node):\n",
    "    qmax=0\n",
    "    for j in g:\n",
    "        if j['locBus']==node:\n",
    "            qmax += j['genQMAX']\n",
    "    return qmax\n",
    "model.busQMAX=Param(model.nodes,initialize=populateNodes_12,default=0,doc='Node QMAX')\n",
    "def populateNodes_13(model,node):\n",
    "    for j in g:\n",
    "        if j['locBus']==node:\n",
    "            return j['genVolt']\n",
    "model.busVsetPoint=Param(model.nodes,initialize=populateNodes_13,default=1.0,doc='Node V set-point')"
   ]
  },
  {
   "cell_type": "markdown",
   "metadata": {},
   "source": [
    "# Generator params\n",
    "\n"
   ]
  },
  {
   "cell_type": "code",
   "execution_count": 211,
   "metadata": {
    "collapsed": false
   },
   "outputs": [],
   "source": [
    "def populateGenerators_1(model,gen):\n",
    "    for j in g:\n",
    "        if j['genID']==gen:\n",
    "            return j['locBus']\n",
    "model.GenLocBus=Param(model.generators, initialize=populateGenerators_1, default=-1, doc='In which node this generator is located?' )\n",
    "def populateGenerators_2(model,gen):\n",
    "    for j in g:\n",
    "        if j['genID']==gen:\n",
    "            return j['genName']\n",
    "#model.GenUnitNumber=Param(model.generators, initialize=populateGenerators_2, default=\"noname\", doc='Name of the unit belonging to')\n",
    "def populateGenerators_3(model,gen):\n",
    "    for j in g:\n",
    "        if j['genID']==gen:\n",
    "            return j['genIdInBus']\n",
    "model.GenIdInBus=Param(model.generators, initialize=populateGenerators_3, default=-1, doc='The generatos of each node are identified: 1,2, ..' )\n",
    "def populateGenerators_4(model,gen):\n",
    "    for j in g:\n",
    "        if j['genID']==gen:\n",
    "            return j['genPg']\n",
    "model.GenPgSetPoint=Param(model.generators, initialize=populateGenerators_4, default=0.0, doc='Plannified Active power')\n",
    "def populateGenerators_5(model,gen):\n",
    "    for j in g:\n",
    "        if j['genID']==gen:\n",
    "            return j['genQg']\n",
    "model.GenQgSetPoint=Param(model.generators, initialize=populateGenerators_5, default=0.0, doc='Plannified Reactive power')\n",
    "def populateGenerators_6(model,gen):\n",
    "    for j in g:\n",
    "        if j['genID']==gen:\n",
    "            return j['genQMIN']\n",
    "model.GenQMIN=Param(model.generators, initialize=populateGenerators_6, default=0, doc='Minimum of Reactive power')\n",
    "def populateGenerators_7(model,gen):\n",
    "    for j in g:\n",
    "        if j['genID']==gen:\n",
    "            if model.busType[j['locBus']]==3:#slack bus\n",
    "                return 10000\n",
    "            return j['genQMAX']\n",
    "model.GenQMAX=Param(model.generators, initialize=populateGenerators_7, default=0, doc='Maximum of Reactive power')\n",
    "def populateGenerators_8(model,gen):\n",
    "    for j in g:\n",
    "        if j['genID']==gen:\n",
    "            return j['genVolt']\n",
    "model.GenVsetPoint=Param(model.generators,initialize=populateGenerators_8,default=0,doc='Voltage set point of each Generator')\n",
    "def populateGenerators_9(model,gen):\n",
    "    for j in g:\n",
    "        if j['genID']==gen:\n",
    "            if model.busType[j['locBus']]==3:#slack bus\n",
    "                return 10000\n",
    "            return j['genPg']*1.5 # TO DO: check the PMAX values\n",
    "model.GenPMAX=Param(model.generators,initialize=populateGenerators_9,default=0,doc='Max Active Power capacity')"
   ]
  },
  {
   "cell_type": "markdown",
   "metadata": {},
   "source": [
    "#   params  for branches"
   ]
  },
  {
   "cell_type": "code",
   "execution_count": 212,
   "metadata": {
    "collapsed": false
   },
   "outputs": [],
   "source": [
    "def populateBranches_1(model,branch):\n",
    "    for i in k:\n",
    "        if i['cdfNum']==branch:\n",
    "            return i['fromBus']\n",
    "model.BranchFrom=Param(model.branches, initialize=populateBranches_1, default=0, doc='from bus')\n",
    "def populateBranches_18(model,branch):\n",
    "    for i in k:\n",
    "        if i['cdfNum']==branch:\n",
    "            return i['toBus']\n",
    "model.BranchTo=Param(model.branches, initialize=populateBranches_18, default=0, doc='to bus')\n",
    "def populateBranches_17(model,branch):\n",
    "    for i in k:\n",
    "        if i['cdfNum']==branch:\n",
    "            return i['lengthMiles']\n",
    "model.BranchLengthMiles=Param(model.branches, initialize=populateBranches_17, default=0, doc='branch length in miles')\n",
    "def populateBranches_16(model,branch):\n",
    "    for i in k:\n",
    "        if i['cdfNum']==branch:\n",
    "            return i['outageRateYear']\n",
    "model.BranchOutageRateYear=Param(model.branches, initialize=populateBranches_16, default=0, doc='Lam-p =  Permanent Outage Rate (outages/year).')\n",
    "def populateBranches_15(model,branch):\n",
    "    for i in k:\n",
    "        if i['cdfNum']==branch:\n",
    "            return i['outageDuration']\n",
    "model.BranchOutageDuration=Param(model.branches, initialize=populateBranches_15, default=0, doc='Dur =  Permanent Outage Duration (Hours).')\n",
    "def populateBranches_14(model,branch):\n",
    "    for i in k:\n",
    "        if i['cdfNum']==branch:\n",
    "            return i['outageTransientRateYear']\n",
    "model.BranchOutageTransientRateYear=Param(model.branches, initialize=populateBranches_14, default=0, doc='Transient Outage Rate (outages/year)')\n",
    "def populateBranches_13(model,branch):\n",
    "    for i in k:\n",
    "        if i['cdfNum']==branch:\n",
    "            return i['R']\n",
    "model.BranchR=Param(model.branches, initialize=populateBranches_13, default=0, doc='Resistance (p.u)=1/G')\n",
    "def populateBranches_12(model,branch):\n",
    "    for i in k:\n",
    "        if i['cdfNum']==branch:\n",
    "            if i['X'] ==0:\n",
    "                return 999\n",
    "            return 1/float(i['X'])\n",
    "model.BranchG=Param(model.branches, initialize=populateBranches_12, default=0, doc='Conducance (p.u)=1/R')\n",
    "def populateBranches_11(model,branch):\n",
    "    for i in k:\n",
    "        if i['cdfNum']==branch:\n",
    "            if i['X'] ==0:\n",
    "                return 999\n",
    "            return 1/float(i['X']) *0.5\n",
    "model.BranchMING=Param(model.branches, initialize=populateBranches_11, default=0, doc='MIN Conducance (p.u)=1/R')\n",
    "def populateBranches_10(model,branch):\n",
    "    for i in k:\n",
    "        if i['cdfNum']==branch:\n",
    "            if i['X'] ==0:\n",
    "                return 999\n",
    "            return 1/float(i['X']) *1.5\n",
    "model.BranchMAXG=Param(model.branches, initialize=populateBranches_10, default=0, doc='MAX Conducance (p.u)=1/R')\n",
    "def populateBranches_9(model,branch):\n",
    "    for i in k:\n",
    "        if i['cdfNum']==branch:\n",
    "            return i['X']\n",
    "model.BranchX=Param(model.branches, initialize=populateBranches_9, default=0, doc='Reactance (p.u)')\n",
    "\n",
    "def populateBranches_8(model,branch):\n",
    "    for i in k:\n",
    "        if i['cdfNum']==branch:\n",
    "            return i['B']\n",
    "model.BranchB=Param(model.branches, initialize=populateBranches_8, default=0, doc='Susceptance (p.u)')\n",
    "def populateBranches_7(model,branch):\n",
    "    for i in k:\n",
    "        if i['cdfNum']==branch:\n",
    "            return i['contRating']\n",
    "model.BranchContRating=Param(model.branches, initialize=populateBranches_7, default=0, doc='Continious rating (MVA)')\n",
    "def populateBranches_6(model,branch):\n",
    "    for i in k:\n",
    "        if i['cdfNum']==branch:\n",
    "            return i['LTemergency']\n",
    "model.BranchLTemergency=Param(model.branches, initialize=populateBranches_6, default=0, doc='(MVA) LTE       =  Long-time emergency rating  (24 hour).')\n",
    "def populateBranches_5(model,branch):\n",
    "    for i in k:\n",
    "        if i['cdfNum']==branch:\n",
    "            return i['STemergency']\n",
    "model.BranchSTemergency=Param(model.branches, initialize=populateBranches_5, default=0, doc='STemergency   - (MVA) STE       =  Short-time emergency rating (15 minute).')\n",
    "def populateBranches_4(model,branch):\n",
    "    for i in k:\n",
    "        if i['cdfNum']==branch:\n",
    "            return i['TR']\n",
    "model.BranchTR=Param(model.branches, initialize=populateBranches_4, default=0, doc='- (pu)TR=  Transformer off-nominal Ratio. Transformer branches are indicated by Tr != 0.')\n",
    "def populateBranches_3(model,branch):\n",
    "    for i in k:\n",
    "        if i['cdfNum']==branch:\n",
    "            return i['B']*0.5\n",
    "model.BranchMINB=Param(model.branches, initialize=populateBranches_3, default=0, doc='MIN Susceptance (p.u)')\n",
    "def populateBranches_2(model,branch):\n",
    "    for i in k:\n",
    "        if i['cdfNum']==branch:\n",
    "            return i['B']*1.5\n",
    "model.BranchMAXB=Param(model.branches, initialize=populateBranches_2, default=0, doc='MAX Susceptance (p.u)')"
   ]
  },
  {
   "cell_type": "markdown",
   "metadata": {},
   "source": [
    "#   Variables\n"
   ]
  },
  {
   "cell_type": "code",
   "execution_count": 213,
   "metadata": {
    "collapsed": false
   },
   "outputs": [],
   "source": [
    "#x:state variable - c:control variable: !TO DO: bounds to be fixed later on!\n",
    "#nodes\n",
    "def init_xcv(model,node):\n",
    "    if node in model.PQbuses:\n",
    "        return model.busVsetPoint[node]\n",
    "    return 1\n",
    "model.xcV   =Var(model.nodes, initialize=init_xcv , domain=Reals ,bounds=(0.9 , 1.1), doc='Voltage magnitude on each node (p.u)' )\n",
    "model.xTheta=Var(model.nodes, domain=Reals, bounds=(-pi,pi), doc='Voltage angle on each node (deg)')\n",
    "def xQgLimits(model,node):\n",
    "    return (model.busQMIN[node],model.busQMAX[node])\n",
    "model.xQg   =Var(model.nodes, domain=Reals, bounds=xQgLimits,doc='Reactive power generation - state variable (MVAr)')\n",
    "model.cPg   =Var(model.nodes, domain=NonNegativeReals,doc='Active power generation - control variable (MW)')\n",
    "#branches\n",
    "model.cPhi  =Var(model.branches, domain=Reals, bounds=(-pi,pi), doc='control var- phase shift (deg)')\n",
    "model.cA    =Var(model.branches, domain=NonNegativeReals, bounds=(1,1), doc='control var- transformer branches \\\n",
    "                                                                                params t=a exp^(jV)- decide on a (p.u)\\\n",
    "                                                                                =1 for non-active branches' )\n",
    "model.xcTheta=Var(model.branches, domain=Reals, bounds=(-pi,pi), doc='Voltage angle difference on each branch (deg)')\n",
    "def cBlimits(model,branch):\n",
    "    return (model.BranchMINB[branch],model.BranchMAXB[branch])\n",
    "model.cB    =Var(model.branches, domain=NonNegativeReals, bounds=cBlimits, doc='control var- susceptance of active branch (p.u)' )\n",
    "def cGlimits(model,branch):\n",
    "    return (model.BranchMING[branch],model.BranchMAXG[branch])\n",
    "model.cG    =Var(model.branches, domain=NonNegativeReals, bounds=cGlimits, doc='control var- admittance of active branch (p.u)' )\n",
    "#generators\n",
    "def cPgjlimits(model,gen):\n",
    "    return (0,model.GenPMAX[gen])\n",
    "model.cPgj   =Var(model.generators, domain=NonNegativeReals, bounds=cPgjlimits,doc='Active power of each generator - control variable (MW)')\n",
    "def xQgjlimits (model,gen):\n",
    "    return (model.GenQMIN[gen], model.GenQMAX[gen])\n",
    "model.xQgj   =Var(model.generators, domain=Reals, bounds=xQgjlimits,doc='Reactive power of each generator - control variable (MW)')\n",
    "#model.xcVj   =Var(model.generators,domain=Reals, bounds=(0.9,1.1),doc='Volt of each Generator')"
   ]
  },
  {
   "cell_type": "markdown",
   "metadata": {},
   "source": [
    "# Constraints:"
   ]
  },
  {
   "cell_type": "code",
   "execution_count": 214,
   "metadata": {
    "collapsed": false
   },
   "outputs": [],
   "source": [
    "# Full AC power fow constraints: active lines\n",
    "#Active\n",
    "def PassiveL_APF_rule(model,node):\n",
    "    return model.xcV[node] * sum(\\\n",
    "                                 model.xcV[ model.BranchTo[l]]* \\\n",
    "                                 model.cG[l]* cos(model.xcTheta[l])+\\\n",
    "                                 model.cB[l]* sin(model.xcTheta[l])    \\\n",
    "                                for l in model.kpPassive[node]\\\n",
    "                                )\\\n",
    "                                - model.cPg[node] + model.busPload[node]==0                              \n",
    "model.PassiveL_APF= Constraint(model.nodes, rule=PassiveL_APF_rule, \\\n",
    "                               doc='Passive line - Active component PF constraints')\n",
    "model.PassiveL_APF.deactivate()\n",
    "# Reactive\n",
    "def PassiveL_RPF_rule(model,node):\n",
    "    return model.xcV[node] * sum(\\\n",
    "                                 model.xcV[ model.BranchTo[l]]* \\\n",
    "                                 model.cG[l]* sin(model.xcTheta[l])-\\\n",
    "                                 model.cB[l]* cos(model.xcTheta[l])    \\\n",
    "                                for l in model.kpPassive[node]\\\n",
    "                                )\\\n",
    "                                - model.xQg[node] + model.busQload[node]==0                                                           \n",
    "model.PassiveL_RPF= Constraint(model.nodes, rule=PassiveL_RPF_rule, \\\n",
    "                               doc='Passive line - Reactive component PF constraints')\n",
    "model.PassiveL_RPF.deactivate()"
   ]
  },
  {
   "cell_type": "code",
   "execution_count": 215,
   "metadata": {
    "collapsed": true
   },
   "outputs": [],
   "source": [
    "# Full AC power fow constraints: active lines\n",
    "#Active component\n",
    "def ActiveL_APF_rule(model,node):\n",
    "    return model.xcV[node] * sum(\\\n",
    "                                 model.cA[l]**2 *\\\n",
    "                                 model.xcV[ model.BranchTo[l]]* \\\n",
    "                                 (model.cG[l]* cos(model.xcTheta[l])+\\\n",
    "                                 model.cB[l]* sin(model.xcTheta[l]) )   \\\n",
    "                                 -  model.cA[l]**2 * model.cG[l] * model.xcV[node]**2\\\n",
    "                                for l in model.kpActive[node]\\\n",
    "                                )\\\n",
    "                                - model.cPg[node] + model.busPload[node]==0                              \n",
    "model.ActiveL_APF= Constraint(model.nodes, rule=ActiveL_APF_rule,\\\n",
    "                                             doc='Active line - Active component PF constraints' )\n",
    "model.ActiveL_APF.deactivate()\n",
    "# Reactive component \n",
    "def ActiveL_RPF_rule(model,node):\n",
    "    return model.xcV[node] * sum(\\\n",
    "                                 model.cA[l]**2 *\\\n",
    "                                 model.xcV[ model.BranchTo[l]]* \\\n",
    "                                 (model.cG[l]* sin(model.xcTheta[l])-\\\n",
    "                                 model.cB[l]* cos(model.xcTheta[l]) )   \\\n",
    "                                  +  model.cA[l]**2 * model.cG[l] * model.xcV[node]**2\\\n",
    "                                for l in model.kpActive[node]\\\n",
    "                                )\\\n",
    "                                - model.xQg[node] + model.busQload[node]==0                                                           \n",
    "model.ActiveL_RPF= Constraint(model.nodes, rule=ActiveL_RPF_rule,\\\n",
    "                                    doc='Active line - Reactive component PF constraints' )\n",
    "#model.ActiveL_RPF.deactivate()"
   ]
  },
  {
   "cell_type": "code",
   "execution_count": 216,
   "metadata": {
    "collapsed": true
   },
   "outputs": [],
   "source": [
    "# Define the xcTheta [n,m] = xTheta[n] - xTheta[m] - cPhi[n,m]"
   ]
  },
  {
   "cell_type": "code",
   "execution_count": 217,
   "metadata": {
    "collapsed": true
   },
   "outputs": [],
   "source": [
    "def AngleBranch_rule(model,branch):\n",
    "#if model.BranchTR[branch] == 0: #  Transformer branches are indicated by Tr <> 0.\n",
    "    return model.xcTheta[branch] == model.xTheta[model.BranchFrom[branch]] - \\\n",
    "           model.xTheta[model.BranchTo[branch]] - model.cPhi[branch]\n",
    "#return model.xcTheta[branch] == model.xTheta[model.BranchFrom[branch]] - model.xTheta[model.BranchTo[branch]]\n",
    "            \n",
    "model.AngleBranch= Constraint(model.branches, rule=AngleBranch_rule)"
   ]
  },
  {
   "cell_type": "code",
   "execution_count": 218,
   "metadata": {
    "collapsed": true
   },
   "outputs": [],
   "source": [
    "#Set the control variables to their nominal values according to the type of the bus"
   ]
  },
  {
   "cell_type": "code",
   "execution_count": 219,
   "metadata": {
    "collapsed": false
   },
   "outputs": [],
   "source": [
    "# PQ bus: xQg=0 \n",
    "def FixPQ1_rule(model,node):\n",
    "#if model.busType[node] == 1:#PQ bus\n",
    "    return model.xQg[node]==0 #NOT IF THE PQ is a generator with fixed output\n",
    "#return Constraint.Skip\n",
    "try:\n",
    "    model.FixPQ1=Constraint(model.PQbuses,rule=FixPQ1_rule,doc='PQ bus: xQg=0 [hyp:load bus not a fixed output generator ]')\n",
    "    model.FixPQ1.deactivate()\n",
    "except:\n",
    "    print('error')"
   ]
  },
  {
   "cell_type": "code",
   "execution_count": 220,
   "metadata": {
    "collapsed": false
   },
   "outputs": [],
   "source": [
    "#PQ bus: cPg=0 \n",
    "def FixPQ2_rule(model,node):\n",
    "#if model.busType[node] == 1:#PQ bus\n",
    "    return model.cPg[node]==0 #NOT IF THE PQ is a generator with fixed output\n",
    "#return Constraint.Skip\n",
    "try:\n",
    "    model.FixPQ2=Constraint(model.PQbuses,rule=FixPQ1_rule,doc='PQ bus: cPg=0 [hyp:load bus not a fixed output generator ]')\n",
    "    model.FixPQ2.deactivate()\n",
    "except:\n",
    "    print('error')"
   ]
  },
  {
   "cell_type": "code",
   "execution_count": 221,
   "metadata": {
    "collapsed": true
   },
   "outputs": [],
   "source": [
    "#slack bus: xTheta=0\n",
    "def FixSlack1_rule(model,node):\n",
    "#if model.busType[node] == 3:#Slack\n",
    "    return model.xTheta[node]==0 \n",
    "#return Constraint.Skip\n",
    "try:\n",
    "    model.FixSlack1=Constraint(model.SWINGbuses,rule=FixSlack1_rule,doc='Slack bus: cPg=0')\n",
    "except:\n",
    "    print('error')"
   ]
  },
  {
   "cell_type": "code",
   "execution_count": 222,
   "metadata": {
    "collapsed": false
   },
   "outputs": [],
   "source": [
    "#slack bus: xcV is known\n",
    "def FixSlack2_rule(model,node):\n",
    "#if model.busType[node] == 3:#Slack\n",
    "    #return model.xcV[node]== model.busBaseKV[node]\n",
    "    return model.xcV[node]==1\n",
    "#return Constraint.Skip\n",
    "try:\n",
    "    model.FixSlack2=Constraint(model.SWINGbuses,rule=FixSlack2_rule,doc='Slack bus:xcV=Param(busBaseKV) ')\n",
    "except:\n",
    "    pass"
   ]
  },
  {
   "cell_type": "code",
   "execution_count": 223,
   "metadata": {
    "collapsed": false
   },
   "outputs": [],
   "source": [
    "#Passive branches: model.cPhi =0\n",
    "def FixPassiveBranch_rule(model,branch):\n",
    "#if model.BranchTR[branch] == 0: #  Transformer branches are indicated by Tr != 0.\n",
    "    return model.cPhi[branch]==0\n",
    "#return Constraint.Skip\n",
    "try:\n",
    "    model.FixPassiveBranch_1=Constraint(model.PassiveBranches, rule=FixPassiveBranch_rule,doc='Passive branch: cPhi=0')\n",
    "    #model.FixPassiveBranch_1.deactivate()\n",
    "except:\n",
    "    print('error')"
   ]
  },
  {
   "cell_type": "code",
   "execution_count": 224,
   "metadata": {
    "collapsed": false
   },
   "outputs": [],
   "source": [
    "# Passive branch: cA=1\n",
    "def FixPassiveBranch2_rule(model,branch):\n",
    "#if model.BranchTR[branch] == 0: #  Transformer branches are indicated by Tr <> 0.\n",
    "    return model.cA[branch] ==1\n",
    "#return Constraint.Skip\n",
    "try:\n",
    "    model.FixPassiveBranch_2=Constraint(model.PassiveBranches, rule=FixPassiveBranch2_rule,doc='Passive branch: cA=1')\n",
    "except:\n",
    "    pass    "
   ]
  },
  {
   "cell_type": "code",
   "execution_count": 225,
   "metadata": {
    "collapsed": false
   },
   "outputs": [],
   "source": [
    "# Passive branch: cG=1/R\n",
    "def FixPassiveBranch3_rule(model,branch):\n",
    "#if model.BranchTR[branch] == 0: #  Transformer branches are indicated by Tr <> 0.\n",
    "    return model.cG[branch] == model.BranchG[branch]\n",
    "#return Constraint.Skip\n",
    "try:\n",
    "    model.FixPassiveBranch_3=Constraint(model.PassiveBranches, rule=FixPassiveBranch3_rule,doc='Passive branch: cG=1/Param(R)')\n",
    "except:\n",
    "    pass "
   ]
  },
  {
   "cell_type": "code",
   "execution_count": 226,
   "metadata": {
    "collapsed": true
   },
   "outputs": [],
   "source": [
    "# Generation in a node is the sum of the generators"
   ]
  },
  {
   "cell_type": "code",
   "execution_count": 227,
   "metadata": {
    "collapsed": false
   },
   "outputs": [],
   "source": [
    "def InitSumGensActive(model,node):\n",
    "    return model.cPg[node] == sum(model.cPgj[j] for j in model.nodeGens[node])\n",
    "model.sumGensActive=Constraint(model.PVbuses, rule=InitSumGensActive, doc='Sum Active Generation per node')"
   ]
  },
  {
   "cell_type": "code",
   "execution_count": 228,
   "metadata": {
    "collapsed": true
   },
   "outputs": [],
   "source": [
    "def InitSumGensReactive(model,node):\n",
    "    return model.xQg[node] == sum(model.xQgj[j] for j in model.nodeGens[node])\n",
    "model.sumGensReactive=Constraint(model.PVbuses, rule=InitSumGensReactive, doc='Sum Active Generation per node')"
   ]
  },
  {
   "cell_type": "code",
   "execution_count": 229,
   "metadata": {
    "collapsed": true
   },
   "outputs": [],
   "source": [
    "# Objective function: penalty term"
   ]
  },
  {
   "cell_type": "code",
   "execution_count": 230,
   "metadata": {
    "collapsed": false
   },
   "outputs": [],
   "source": [
    "def Obj_Penalty_Constraints(model):\n",
    "    c1=1.0/(float(len(model.nodes))*deltaV)\n",
    "    c2=1.0/(float(len(model.generators)))\n",
    "    c3=1.0/(float(len(model.branches))*pi)\n",
    "    return c1*sum((model.xcV[node]- model.busVsetPoint[node] )**2 for node in model.PVbuses)\\\n",
    "         + c2*sum(((model.cPgj[gen] - model.GenPgSetPoint[gen])/max(epsilonPgj,model.GenPMAX[gen]))**2 for gen in model.generators)\\\n",
    "         + c3*sum((model.xcTheta[br])**2 for br in model.ActiveBranches)"
   ]
  },
  {
   "cell_type": "code",
   "execution_count": 231,
   "metadata": {
    "collapsed": false
   },
   "outputs": [],
   "source": [
    "def Obj_Sparcity(model):\n",
    "    return 1.0/float(len(model.branches))*\\\n",
    "sum( sqrt(( (model.cB[k] - model.BranchB[k])/max(epsilonC,model.BranchMAXB[k]-model.BranchMINB[k])  )**2+epsilonSparcity) for k in model.ActiveBranches )\\\n",
    "\\\n",
    "+1.0/float(len(model.branches))*\\\n",
    "sum( sqrt(( (model.cG[k] - model.BranchG[k])/max(epsilonC,model.BranchMAXG[k]-model.BranchMING[k])  )**2+epsilonSparcity) for k in model.ActiveBranches )\\\n",
    "\\\n",
    "+1.0/float(len(model.branches))*\\\n",
    "sum( sqrt(( model.cPhi[k] / pi  )**2+epsilonSparcity) for k in model.ActiveBranches) "
   ]
  },
  {
   "cell_type": "code",
   "execution_count": 232,
   "metadata": {
    "collapsed": true
   },
   "outputs": [],
   "source": [
    "def obj_both(model):\n",
    "    return Obj_Penalty_Constraints(model)+Obj_Sparcity(model) "
   ]
  },
  {
   "cell_type": "markdown",
   "metadata": {},
   "source": []
  },
  {
   "cell_type": "code",
   "execution_count": 233,
   "metadata": {
    "collapsed": false
   },
   "outputs": [],
   "source": [
    "model.obj=Objective(rule=obj_both, sense=minimize )"
   ]
  },
  {
   "cell_type": "markdown",
   "metadata": {
    "collapsed": false
   },
   "source": [
    "for node in model.nodes:\n",
    "    print(node,\" : \")\n",
    "    for np in model.neighbours[node]:\n",
    "        print(\"    \",np)"
   ]
  },
  {
   "cell_type": "markdown",
   "metadata": {
    "collapsed": true
   },
   "source": [
    "gen=0\n",
    "demand=0\n",
    "for i in model.generators:\n",
    "    gen += model.GenPMAX[i]\n",
    "for i in model.nodes:\n",
    "    demand+= model.busPload[i]\n",
    "print(demand)    \n",
    "print(gen)"
   ]
  },
  {
   "cell_type": "markdown",
   "metadata": {},
   "source": [
    "for i in model.nodes:\n",
    "    print (i)"
   ]
  },
  {
   "cell_type": "code",
   "execution_count": null,
   "metadata": {
    "collapsed": true
   },
   "outputs": [],
   "source": []
  }
 ],
 "metadata": {
  "anaconda-cloud": {},
  "kernelspec": {
   "display_name": "Python [conda root]",
   "language": "python",
   "name": "conda-root-py"
  },
  "language_info": {
   "codemirror_mode": {
    "name": "ipython",
    "version": 3
   },
   "file_extension": ".py",
   "mimetype": "text/x-python",
   "name": "python",
   "nbconvert_exporter": "python",
   "pygments_lexer": "ipython3",
   "version": "3.5.2"
  }
 },
 "nbformat": 4,
 "nbformat_minor": 1
}
